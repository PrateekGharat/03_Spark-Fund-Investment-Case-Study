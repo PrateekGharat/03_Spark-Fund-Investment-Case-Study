{
 "cells": [
  {
   "cell_type": "code",
   "execution_count": 1,
   "metadata": {},
   "outputs": [],
   "source": [
    "import pandas as pd\n",
    "import numpy as np"
   ]
  },
  {
   "cell_type": "code",
   "execution_count": 331,
   "metadata": {},
   "outputs": [],
   "source": [
    "#df_company1 = pd.read_csv(\"companies.txt\", sep=\"\\t\", encoding = \"ISO-8859-1\")\n",
    "#df[col_list].applymap(lambda x: x.encode('utf-8').decode('ascii', 'ignore'))"
   ]
  },
  {
   "cell_type": "code",
   "execution_count": 3,
   "metadata": {},
   "outputs": [],
   "source": [
    "#import os\n",
    "#os.getcwd()\n",
    "#os.chdir('C:/Users/prateek.g/Desktop/UpGrad/Spark Group Project')"
   ]
  },
  {
   "cell_type": "code",
   "execution_count": 2,
   "metadata": {},
   "outputs": [],
   "source": [
    "#Read the data set\n",
    "df_company = pd.read_csv(\"companies.txt\", sep=\"\\t\", encoding = \"ISO-8859-1\")\n",
    "df_rounds2 = pd.read_csv(\"rounds2.csv\")\n",
    "df_mapping = pd.read_csv(\"mapping.csv\")"
   ]
  },
  {
   "cell_type": "code",
   "execution_count": 3,
   "metadata": {},
   "outputs": [
    {
     "data": {
      "text/plain": [
       "66368"
      ]
     },
     "execution_count": 3,
     "metadata": {},
     "output_type": "execute_result"
    }
   ],
   "source": [
    "#Table 1.1: Understand the Data Set\n",
    "\n",
    "#How many unique companies are present in rounds2?\n",
    "#Lower the company_permalink column of rounds 2 dataset to find the unique companies. \n",
    "df_rounds2_lower = df_rounds2['company_permalink'].str.lower()\n",
    "df_rounds2_lower_uni = df_rounds2_lower.unique().tolist()\n",
    "len(df_rounds2_lower_uni)"
   ]
  },
  {
   "cell_type": "code",
   "execution_count": 4,
   "metadata": {},
   "outputs": [
    {
     "data": {
      "text/plain": [
       "66038"
      ]
     },
     "execution_count": 4,
     "metadata": {},
     "output_type": "execute_result"
    }
   ],
   "source": [
    "#How many unique companies are present in the companies file?\n",
    "#Lower the name column of company dataset to find the unique companies. \n",
    "df_company_lower = df_company['name'].str.lower()\n",
    "df_company_lower_uni = df_company_lower.unique().tolist()\n",
    "len(df_company_lower_uni)"
   ]
  },
  {
   "cell_type": "code",
   "execution_count": null,
   "metadata": {},
   "outputs": [],
   "source": [
    "#In the companies data frame, which column can be used as the unique key for each company? Write the name of the column.\n",
    "#Permalink"
   ]
  },
  {
   "cell_type": "code",
   "execution_count": 5,
   "metadata": {},
   "outputs": [
    {
     "data": {
      "text/plain": [
       "66368"
      ]
     },
     "execution_count": 5,
     "metadata": {},
     "output_type": "execute_result"
    }
   ],
   "source": [
    "#Are there any companies in the rounds2 file which are not  present in companies ? Answer Y/N.\n",
    "#Split the company permalink column to find the names and compair with company dataset.\n",
    "df_rounds2_split = df_rounds2_lower.str.split(\"/\", n = 2, expand = True)\n",
    "df_rounds2_split2 = df_rounds2_split[2] \n",
    "df_rounds2_split2_uni = df_rounds2_split2.unique()\n",
    "len(df_rounds2_split2_uni)\n",
    "#Answer = Y"
   ]
  },
  {
   "cell_type": "code",
   "execution_count": 6,
   "metadata": {},
   "outputs": [],
   "source": [
    "#Merge the two data frames so that all variables (columns) in the companies frame are added to the rounds2 data frame. \n",
    "#Name the merged frame master_frame. How many observations are present in master_frame ?\n",
    "\n",
    "#merge the dataframe rounds2 and company as master_frame\n",
    "df_rounds2[\"company_permalink\"] = df_rounds2[\"company_permalink\"].str.lower()\n",
    "df_company[\"permalink\"] = df_company[\"permalink\"].str.lower()\n",
    "\n",
    "master_frame = df_rounds2.merge(df_company, how='left', left_on='company_permalink', right_on='permalink')"
   ]
  },
  {
   "cell_type": "code",
   "execution_count": 7,
   "metadata": {},
   "outputs": [
    {
     "data": {
      "text/plain": [
       "10.634054436083181"
      ]
     },
     "execution_count": 7,
     "metadata": {},
     "output_type": "execute_result"
    }
   ],
   "source": [
    "#Table 2.1: Average Values of Investments for Each of these Funding Types \n",
    "\n",
    "#Average funding amount of venture type\n",
    "\n",
    "#Filter the funding type to venture and replace Nan with 0 and calculate the mean of raised amount\n",
    "df_rounds2_venture = df_rounds2[df_rounds2.funding_round_type == 'venture'] \n",
    "df_rounds2_venture = df_rounds2_venture.fillna(0)\n",
    "df_rounds2_VentAvg = df_rounds2_venture[\"raised_amount_usd\"].mean()/1000000\n",
    "df_rounds2_VentAvg"
   ]
  },
  {
   "cell_type": "code",
   "execution_count": 8,
   "metadata": {},
   "outputs": [
    {
     "data": {
      "text/plain": [
       "0.7645643457499179"
      ]
     },
     "execution_count": 8,
     "metadata": {},
     "output_type": "execute_result"
    }
   ],
   "source": [
    "#Average funding amount of angel type\n",
    "\n",
    "#Filter the funding type to angel and replace Nan with 0 and calculate the mean of raised amount\n",
    "df_rounds2_angel = df_rounds2[df_rounds2.funding_round_type == 'angel'] \n",
    "df_rounds2_angel = df_rounds2_angel.fillna(0)\n",
    "df_rounds2_AngAvg = df_rounds2_angel[\"raised_amount_usd\"].mean()/1000000\n",
    "df_rounds2_AngAvg"
   ]
  },
  {
   "cell_type": "code",
   "execution_count": 9,
   "metadata": {},
   "outputs": [
    {
     "data": {
      "text/plain": [
       "0.5566067416131568"
      ]
     },
     "execution_count": 9,
     "metadata": {},
     "output_type": "execute_result"
    }
   ],
   "source": [
    "#Average funding amount of seed type\n",
    "\n",
    "#Filter the funding type to seed and replace Nan with 0 and calculate the mean of raised amount\n",
    "df_rounds2_seed = df_rounds2[df_rounds2.funding_round_type == 'seed'] \n",
    "df_rounds2_seed = df_rounds2_seed.fillna(0)\n",
    "df_rounds2_SeedAvg = df_rounds2_seed[\"raised_amount_usd\"].mean()/1000000\n",
    "df_rounds2_SeedAvg"
   ]
  },
  {
   "cell_type": "code",
   "execution_count": 10,
   "metadata": {},
   "outputs": [
    {
     "data": {
      "text/plain": [
       "62.1117882297593"
      ]
     },
     "execution_count": 10,
     "metadata": {},
     "output_type": "execute_result"
    }
   ],
   "source": [
    "#Average funding amount of private equity type\n",
    "\n",
    "#Filter the funding type to private_equity and replace Nan with 0 and calculate the mean of raised amount\n",
    "df_rounds2_prieqty = df_rounds2[df_rounds2.funding_round_type == 'private_equity'] \n",
    "df_rounds2_prieqty = df_rounds2_prieqty.fillna(0)\n",
    "df_rounds2_PEAvg = df_rounds2_prieqty[\"raised_amount_usd\"].mean()/1000000\n",
    "df_rounds2_PEAvg"
   ]
  },
  {
   "cell_type": "code",
   "execution_count": 11,
   "metadata": {},
   "outputs": [
    {
     "data": {
      "text/html": [
       "<div>\n",
       "<style scoped>\n",
       "    .dataframe tbody tr th:only-of-type {\n",
       "        vertical-align: middle;\n",
       "    }\n",
       "\n",
       "    .dataframe tbody tr th {\n",
       "        vertical-align: top;\n",
       "    }\n",
       "\n",
       "    .dataframe thead th {\n",
       "        text-align: right;\n",
       "    }\n",
       "</style>\n",
       "<table border=\"1\" class=\"dataframe\">\n",
       "  <thead>\n",
       "    <tr style=\"text-align: right;\">\n",
       "      <th></th>\n",
       "      <th>Investment_Type</th>\n",
       "      <th>Average_in_Millions</th>\n",
       "    </tr>\n",
       "  </thead>\n",
       "  <tbody>\n",
       "    <tr>\n",
       "      <th>0</th>\n",
       "      <td>venture</td>\n",
       "      <td>10.63</td>\n",
       "    </tr>\n",
       "    <tr>\n",
       "      <th>1</th>\n",
       "      <td>angel</td>\n",
       "      <td>0.76</td>\n",
       "    </tr>\n",
       "    <tr>\n",
       "      <th>2</th>\n",
       "      <td>seed</td>\n",
       "      <td>0.56</td>\n",
       "    </tr>\n",
       "    <tr>\n",
       "      <th>3</th>\n",
       "      <td>private_equity</td>\n",
       "      <td>62.11</td>\n",
       "    </tr>\n",
       "  </tbody>\n",
       "</table>\n",
       "</div>"
      ],
      "text/plain": [
       "  Investment_Type  Average_in_Millions\n",
       "0         venture                10.63\n",
       "1           angel                 0.76\n",
       "2            seed                 0.56\n",
       "3  private_equity                62.11"
      ]
     },
     "execution_count": 11,
     "metadata": {},
     "output_type": "execute_result"
    }
   ],
   "source": [
    "#Considering that Spark Funds wants to invest between 5 to 15 million USD per investment round, \n",
    "#which investment type is the most suitable for it?\n",
    "\n",
    "#Creating a datafame to indentify investment type between 5 to 15 million\n",
    "Fund_Type = pd.DataFrame([\"venture\",\"angel\",\"seed\",\"private_equity\"])\n",
    "Average = pd.DataFrame([df_rounds2_VentAvg,df_rounds2_AngAvg,df_rounds2_SeedAvg,df_rounds2_PEAvg]).round(2)\n",
    "Average_Values_of_Investments = pd.concat([Fund_Type,Average],axis = 1)\n",
    "Average_Values_of_Investments.columns = [\"Investment_Type\",\"Average_in_Millions\"]\n",
    "Average_Values_of_Investments"
   ]
  },
  {
   "cell_type": "code",
   "execution_count": 12,
   "metadata": {},
   "outputs": [
    {
     "data": {
      "text/html": [
       "<div>\n",
       "<style scoped>\n",
       "    .dataframe tbody tr th:only-of-type {\n",
       "        vertical-align: middle;\n",
       "    }\n",
       "\n",
       "    .dataframe tbody tr th {\n",
       "        vertical-align: top;\n",
       "    }\n",
       "\n",
       "    .dataframe thead th {\n",
       "        text-align: right;\n",
       "    }\n",
       "</style>\n",
       "<table border=\"1\" class=\"dataframe\">\n",
       "  <thead>\n",
       "    <tr style=\"text-align: right;\">\n",
       "      <th></th>\n",
       "      <th>country_code</th>\n",
       "      <th>raised_amount_usd</th>\n",
       "    </tr>\n",
       "  </thead>\n",
       "  <tbody>\n",
       "    <tr>\n",
       "      <th>100</th>\n",
       "      <td>USA</td>\n",
       "      <td>4.225108e+11</td>\n",
       "    </tr>\n",
       "    <tr>\n",
       "      <th>16</th>\n",
       "      <td>CHN</td>\n",
       "      <td>3.983542e+10</td>\n",
       "    </tr>\n",
       "    <tr>\n",
       "      <th>31</th>\n",
       "      <td>GBR</td>\n",
       "      <td>2.024563e+10</td>\n",
       "    </tr>\n",
       "    <tr>\n",
       "      <th>41</th>\n",
       "      <td>IND</td>\n",
       "      <td>1.439186e+10</td>\n",
       "    </tr>\n",
       "    <tr>\n",
       "      <th>13</th>\n",
       "      <td>CAN</td>\n",
       "      <td>9.583332e+09</td>\n",
       "    </tr>\n",
       "    <tr>\n",
       "      <th>30</th>\n",
       "      <td>FRA</td>\n",
       "      <td>7.259537e+09</td>\n",
       "    </tr>\n",
       "    <tr>\n",
       "      <th>44</th>\n",
       "      <td>ISR</td>\n",
       "      <td>6.907515e+09</td>\n",
       "    </tr>\n",
       "    <tr>\n",
       "      <th>23</th>\n",
       "      <td>DEU</td>\n",
       "      <td>6.346960e+09</td>\n",
       "    </tr>\n",
       "    <tr>\n",
       "      <th>47</th>\n",
       "      <td>JPN</td>\n",
       "      <td>3.363677e+09</td>\n",
       "    </tr>\n",
       "  </tbody>\n",
       "</table>\n",
       "</div>"
      ],
      "text/plain": [
       "    country_code  raised_amount_usd\n",
       "100          USA       4.225108e+11\n",
       "16           CHN       3.983542e+10\n",
       "31           GBR       2.024563e+10\n",
       "41           IND       1.439186e+10\n",
       "13           CAN       9.583332e+09\n",
       "30           FRA       7.259537e+09\n",
       "44           ISR       6.907515e+09\n",
       "23           DEU       6.346960e+09\n",
       "47           JPN       3.363677e+09"
      ]
     },
     "execution_count": 12,
     "metadata": {},
     "output_type": "execute_result"
    }
   ],
   "source": [
    "#Checkpoint 3: Country Analysis\n",
    "#For the chosen investment type, make a data frame named top9 with the top nine countries \n",
    "#(based on the total investment amount each country has received)\n",
    "\n",
    "#As identified above venture is the suitable investment type create a df from master df filtering venture as investment type\n",
    "master_frame_vent = master_frame[master_frame.funding_round_type == 'venture']\n",
    "\n",
    "#To find the top countries, group the above df by country code and find the sum of raised amount\n",
    "master_frame_top = master_frame_vent.groupby('country_code',as_index=False)['raised_amount_usd'].sum()\n",
    "\n",
    "#Sort the df by raised amount to find top 9 countries\n",
    "top = master_frame_top.sort_values(by = ['raised_amount_usd'],ascending=False)\n",
    "top9 = top.head(9)\n",
    "top9"
   ]
  },
  {
   "cell_type": "code",
   "execution_count": 13,
   "metadata": {},
   "outputs": [
    {
     "data": {
      "text/html": [
       "<div>\n",
       "<style scoped>\n",
       "    .dataframe tbody tr th:only-of-type {\n",
       "        vertical-align: middle;\n",
       "    }\n",
       "\n",
       "    .dataframe tbody tr th {\n",
       "        vertical-align: top;\n",
       "    }\n",
       "\n",
       "    .dataframe thead th {\n",
       "        text-align: right;\n",
       "    }\n",
       "</style>\n",
       "<table border=\"1\" class=\"dataframe\">\n",
       "  <thead>\n",
       "    <tr style=\"text-align: right;\">\n",
       "      <th></th>\n",
       "      <th>country_code</th>\n",
       "      <th>raised_amount_usd</th>\n",
       "    </tr>\n",
       "  </thead>\n",
       "  <tbody>\n",
       "    <tr>\n",
       "      <th>0</th>\n",
       "      <td>USA</td>\n",
       "      <td>4.225108e+11</td>\n",
       "    </tr>\n",
       "    <tr>\n",
       "      <th>1</th>\n",
       "      <td>GBR</td>\n",
       "      <td>2.024563e+10</td>\n",
       "    </tr>\n",
       "    <tr>\n",
       "      <th>2</th>\n",
       "      <td>IND</td>\n",
       "      <td>1.439186e+10</td>\n",
       "    </tr>\n",
       "  </tbody>\n",
       "</table>\n",
       "</div>"
      ],
      "text/plain": [
       "  country_code  raised_amount_usd\n",
       "0          USA       4.225108e+11\n",
       "1          GBR       2.024563e+10\n",
       "2          IND       1.439186e+10"
      ]
     },
     "execution_count": 13,
     "metadata": {},
     "output_type": "execute_result"
    }
   ],
   "source": [
    "#Identify the top three English-speaking countries in the data frame top9.\n",
    "\n",
    "#Creating a new df to find top 3 english speaking countries from top 9 \n",
    "Top_Countries = pd.DataFrame([\"USA\",\"GBR\",\"IND\"])\n",
    "Top_Countries.columns=[\"country_code\"]\n",
    "Top_3_English_Speaking_Countries = pd.merge(top9,Top_Countries, left_on =\"country_code\", right_on =\"country_code\", how ='inner')\n",
    "Top_3_English_Speaking_Countries"
   ]
  },
  {
   "cell_type": "code",
   "execution_count": 14,
   "metadata": {},
   "outputs": [],
   "source": [
    "#Checkpoint 4: Sector Analysis 1\n",
    "\n",
    "#Splitting the category list and find primary sector\n",
    "category_list_split = master_frame['category_list'].str.split('|', n = 1,expand = True)\n",
    "category_list_split.columns = [\"primary_sector\",\"category2\"]\n",
    "category_list_split1 = pd.DataFrame(category_list_split[\"primary_sector\"])\n",
    "category_list_split1\n",
    "\n",
    "#Adding category_list_split to merge frame\n",
    "merged_df = pd.concat([master_frame, category_list_split1], axis=1)"
   ]
  },
  {
   "cell_type": "code",
   "execution_count": 15,
   "metadata": {},
   "outputs": [],
   "source": [
    "# replacing '0' with 'na' to clean category list\n",
    "df_mapping.loc[df_mapping.category_list.notnull & df_mapping.category_list.str.contains('0'),'category_list']=df_mapping.loc[df_mapping.category_list.notnull & \n",
    "df_mapping.category_list.str.contains('0'),'category_list'].str.replace('0','na')"
   ]
  },
  {
   "cell_type": "code",
   "execution_count": 16,
   "metadata": {},
   "outputs": [],
   "source": [
    "#Cleaning the mapping file\n",
    "\n",
    "#Dropping the Blank columns in mapping file.\n",
    "df_mapping1 = df_mapping.drop(columns=['Blanks'])\n",
    "df_mapping2 = df_mapping1.drop([0,])\n",
    "\n",
    "#To combine the true (1) values of main sector to category list \n",
    "New_mapping = pd.melt(df_mapping2, id_vars=\"category_list\",)\n",
    "New_mapping2 = New_mapping[New_mapping[\"value\"] != 0]\n",
    "New_mapping2 = New_mapping2.drop(['value'], axis = 1)\n",
    "\n",
    "#Renaming the column names\n",
    "New_mapping2.columns = [\"category_list\",\"Main_Sector\"]"
   ]
  },
  {
   "cell_type": "code",
   "execution_count": 19,
   "metadata": {},
   "outputs": [],
   "source": [
    "#Create a master_frame_final consisting of primary sectors mapped with main sector\n",
    "master_frame_Final = pd.merge(merged_df,New_mapping2, left_on = \"primary_sector\", right_on = \"category_list\", how = \"left\")"
   ]
  },
  {
   "cell_type": "code",
   "execution_count": 20,
   "metadata": {},
   "outputs": [],
   "source": [
    "#Cleaning the special characters in master df\n",
    "\n",
    "#Cleaning the special characters from company_permalink\n",
    "master_frame_Final['company_permalink'] = master_frame_Final[['company_permalink']].applymap(lambda x: str(x).encode('utf-8').decode('ascii', 'ignore'))\n",
    "\n",
    "#Cleaning the special characters from permalink\n",
    "master_frame_Final['permalink'] = master_frame_Final[['permalink']].applymap(lambda x: str(x).encode('utf-8').decode('ascii', 'ignore'))\n",
    "\n",
    "#Cleaning the special characters from name\n",
    "master_frame_Final['name'] = master_frame_Final[['name']].applymap(lambda x: str(x).encode('utf-8').decode('ascii', 'ignore'))\n",
    "\n",
    "master_frame_Final.to_csv(\"Spark_Fund_Final_DF.csv\")"
   ]
  },
  {
   "cell_type": "code",
   "execution_count": 21,
   "metadata": {},
   "outputs": [],
   "source": [
    "#********************************************************Country1 USA**********************************************************\n",
    "#Creating a new dataframe D1 for country 1 (USA) bassed on All the columns of the master_frame along with \n",
    "#the primary sector and the main sector falling within the 5-15 million USD range\n",
    "\n",
    "#Filtering the master df with country code as USA, funding type as venture and raised amount in range of 5 to 15 million\n",
    "D_1 = master_frame_Final[(master_frame_Final.country_code==\"USA\")& \n",
    "                        (master_frame_Final.funding_round_type==\"venture\")&\n",
    "                        (master_frame_Final.raised_amount_usd>=5000000)&(master_frame_Final.raised_amount_usd<=15000000)]\n",
    "\n",
    "#Grouping the df by Main_Sector to find the sum of raised amount and count of Main_Sector mapped with primary sector\n",
    "D_1_Total_Count = D_1.groupby(['Main_Sector']).agg({'raised_amount_usd':'sum','Main_Sector':'count'})\n",
    "\n",
    "#Renaming the new columns consisting of sum of raised amt and count of main sector\n",
    "D_1_Total_Count_Rename = D_1_Total_Count.rename(columns={'Main_Sector':'Total_Count_Main_Sector','raised_amount_usd':'Total_Amount_Raised'})\n",
    "\n",
    "#Creating merged dataframe D1 for USA\n",
    "D1 = pd.merge(D_1,D_1_Total_Count_Rename,left_on='Main_Sector',right_index=True,how='inner')\n",
    "D1.to_csv(\"D1_USA.csv\")"
   ]
  },
  {
   "cell_type": "code",
   "execution_count": 649,
   "metadata": {},
   "outputs": [
    {
     "data": {
      "text/plain": [
       "12012"
      ]
     },
     "execution_count": 649,
     "metadata": {},
     "output_type": "execute_result"
    }
   ],
   "source": [
    "#Table 5.1 : Sector-wise Investment Analysis\n",
    "\n",
    "#5.1 Total number of investments (count)\n",
    "Total_Number_Investment_1 = D_1_Total_Count_Rename.Total_Count_Main_Sector.sum()\n",
    "Total_Number_Investment_1"
   ]
  },
  {
   "cell_type": "code",
   "execution_count": 650,
   "metadata": {},
   "outputs": [
    {
     "data": {
      "text/plain": [
       "107318294664.0"
      ]
     },
     "execution_count": 650,
     "metadata": {},
     "output_type": "execute_result"
    }
   ],
   "source": [
    "#5.2 Total amount of investment (USD)\n",
    "Total_Amount_of_Investment_1 = D_1_Total_Count_Rename.Total_Amount_Raised.sum()\n",
    "Total_Amount_of_Investment_1"
   ]
  },
  {
   "cell_type": "code",
   "execution_count": 665,
   "metadata": {},
   "outputs": [
    {
     "data": {
      "text/html": [
       "<div>\n",
       "<style scoped>\n",
       "    .dataframe tbody tr th:only-of-type {\n",
       "        vertical-align: middle;\n",
       "    }\n",
       "\n",
       "    .dataframe tbody tr th {\n",
       "        vertical-align: top;\n",
       "    }\n",
       "\n",
       "    .dataframe thead th {\n",
       "        text-align: right;\n",
       "    }\n",
       "</style>\n",
       "<table border=\"1\" class=\"dataframe\">\n",
       "  <thead>\n",
       "    <tr style=\"text-align: right;\">\n",
       "      <th></th>\n",
       "      <th>Total_Count_Main_Sector</th>\n",
       "    </tr>\n",
       "    <tr>\n",
       "      <th>Main_Sector</th>\n",
       "      <th></th>\n",
       "    </tr>\n",
       "  </thead>\n",
       "  <tbody>\n",
       "    <tr>\n",
       "      <th>Others</th>\n",
       "      <td>2950</td>\n",
       "    </tr>\n",
       "    <tr>\n",
       "      <th>Social, Finance, Analytics, Advertising</th>\n",
       "      <td>2714</td>\n",
       "    </tr>\n",
       "    <tr>\n",
       "      <th>Cleantech / Semiconductors</th>\n",
       "      <td>2300</td>\n",
       "    </tr>\n",
       "  </tbody>\n",
       "</table>\n",
       "</div>"
      ],
      "text/plain": [
       "                                         Total_Count_Main_Sector\n",
       "Main_Sector                                                     \n",
       "Others                                                      2950\n",
       "Social, Finance, Analytics, Advertising                     2714\n",
       "Cleantech / Semiconductors                                  2300"
      ]
     },
     "execution_count": 665,
     "metadata": {},
     "output_type": "execute_result"
    }
   ],
   "source": [
    "#5.3 Top sector (based on count of investments)\n",
    "#5.4 Second-best sector (based on count of investments)\n",
    "#5.5 Third-best sector (based on count of investments)\n",
    "Top_Sector_BasedOn_Count_of_Investment = D_1_Total_Count_Rename.sort_values('Total_Count_Main_Sector',ascending=False)\n",
    "Top_Sector_BasedOn_Count_of_Investment_1 = pd.DataFrame(Top_Sector_BasedOn_Count_of_Investment[\"Total_Count_Main_Sector\"])\n",
    "Top_Sector_BasedOn_Count_of_Investment_1.head(3)"
   ]
  },
  {
   "cell_type": "code",
   "execution_count": 666,
   "metadata": {},
   "outputs": [
    {
     "data": {
      "text/html": [
       "<div>\n",
       "<style scoped>\n",
       "    .dataframe tbody tr th:only-of-type {\n",
       "        vertical-align: middle;\n",
       "    }\n",
       "\n",
       "    .dataframe tbody tr th {\n",
       "        vertical-align: top;\n",
       "    }\n",
       "\n",
       "    .dataframe thead th {\n",
       "        text-align: right;\n",
       "    }\n",
       "</style>\n",
       "<table border=\"1\" class=\"dataframe\">\n",
       "  <thead>\n",
       "    <tr style=\"text-align: right;\">\n",
       "      <th></th>\n",
       "      <th>Total_Amount_Raised</th>\n",
       "    </tr>\n",
       "    <tr>\n",
       "      <th>Main_Sector</th>\n",
       "      <th></th>\n",
       "    </tr>\n",
       "  </thead>\n",
       "  <tbody>\n",
       "    <tr>\n",
       "      <th>Others</th>\n",
       "      <td>2.632101e+10</td>\n",
       "    </tr>\n",
       "    <tr>\n",
       "      <th>Social, Finance, Analytics, Advertising</th>\n",
       "      <td>2.380738e+10</td>\n",
       "    </tr>\n",
       "    <tr>\n",
       "      <th>Cleantech / Semiconductors</th>\n",
       "      <td>2.120663e+10</td>\n",
       "    </tr>\n",
       "  </tbody>\n",
       "</table>\n",
       "</div>"
      ],
      "text/plain": [
       "                                         Total_Amount_Raised\n",
       "Main_Sector                                                 \n",
       "Others                                          2.632101e+10\n",
       "Social, Finance, Analytics, Advertising         2.380738e+10\n",
       "Cleantech / Semiconductors                      2.120663e+10"
      ]
     },
     "execution_count": 666,
     "metadata": {},
     "output_type": "execute_result"
    }
   ],
   "source": [
    "#5.6 Number of investments in the top sector\n",
    "#5.7 Number of investments in the second-best sector\n",
    "#5.8 Number of investments in the third-best sector\n",
    "Top_Sector_Number_of_Investment = D_1_Total_Count_Rename.sort_values('Total_Amount_Raised',ascending=False)\n",
    "Top_Sector_Number_of_Investment_1 = pd.DataFrame(Top_Sector_Number_of_Investment[\"Total_Amount_Raised\"])\n",
    "Top_Sector_Number_of_Investment_1.head(3)"
   ]
  },
  {
   "cell_type": "code",
   "execution_count": 667,
   "metadata": {},
   "outputs": [
    {
     "data": {
      "text/html": [
       "<div>\n",
       "<style scoped>\n",
       "    .dataframe tbody tr th:only-of-type {\n",
       "        vertical-align: middle;\n",
       "    }\n",
       "\n",
       "    .dataframe tbody tr th {\n",
       "        vertical-align: top;\n",
       "    }\n",
       "\n",
       "    .dataframe thead th {\n",
       "        text-align: right;\n",
       "    }\n",
       "</style>\n",
       "<table border=\"1\" class=\"dataframe\">\n",
       "  <thead>\n",
       "    <tr style=\"text-align: right;\">\n",
       "      <th></th>\n",
       "      <th>raised_amount_usd</th>\n",
       "    </tr>\n",
       "    <tr>\n",
       "      <th>name</th>\n",
       "      <th></th>\n",
       "    </tr>\n",
       "  </thead>\n",
       "  <tbody>\n",
       "    <tr>\n",
       "      <th>Virtustream</th>\n",
       "      <td>64300000.0</td>\n",
       "    </tr>\n",
       "  </tbody>\n",
       "</table>\n",
       "</div>"
      ],
      "text/plain": [
       "             raised_amount_usd\n",
       "name                          \n",
       "Virtustream         64300000.0"
      ]
     },
     "execution_count": 667,
     "metadata": {},
     "output_type": "execute_result"
    }
   ],
   "source": [
    "#5.9 For the top sector count-wise (point 3), which company received the highest investment?\n",
    "Top_Sector_CountWise_Company_1 = pd.DataFrame(D1[(D1.Main_Sector==\"Others\")].groupby('name')['raised_amount_usd'].sum().sort_values(ascending=False))\n",
    "Top_Sector_CountWise_Company_1.head(1)"
   ]
  },
  {
   "cell_type": "code",
   "execution_count": 658,
   "metadata": {},
   "outputs": [
    {
     "data": {
      "text/html": [
       "<div>\n",
       "<style scoped>\n",
       "    .dataframe tbody tr th:only-of-type {\n",
       "        vertical-align: middle;\n",
       "    }\n",
       "\n",
       "    .dataframe tbody tr th {\n",
       "        vertical-align: top;\n",
       "    }\n",
       "\n",
       "    .dataframe thead th {\n",
       "        text-align: right;\n",
       "    }\n",
       "</style>\n",
       "<table border=\"1\" class=\"dataframe\">\n",
       "  <thead>\n",
       "    <tr style=\"text-align: right;\">\n",
       "      <th></th>\n",
       "      <th>raised_amount_usd</th>\n",
       "    </tr>\n",
       "    <tr>\n",
       "      <th>name</th>\n",
       "      <th></th>\n",
       "    </tr>\n",
       "  </thead>\n",
       "  <tbody>\n",
       "    <tr>\n",
       "      <th>SST Inc. (Formerly ShotSpotter)</th>\n",
       "      <td>67933006.0</td>\n",
       "    </tr>\n",
       "  </tbody>\n",
       "</table>\n",
       "</div>"
      ],
      "text/plain": [
       "                                 raised_amount_usd\n",
       "name                                              \n",
       "SST Inc. (Formerly ShotSpotter)         67933006.0"
      ]
     },
     "execution_count": 658,
     "metadata": {},
     "output_type": "execute_result"
    }
   ],
   "source": [
    "#For the second-best sector count-wise (point 4), which company received the highest investment?\n",
    "Second_Best_Sector_CountWise_Company_1 = pd.DataFrame(D1[(D1.Main_Sector==\"Social, Finance, Analytics, Advertising\")].groupby('name')['raised_amount_usd'].sum().sort_values(ascending=False))\n",
    "Second_Best_Sector_CountWise_Company_1.head(1)"
   ]
  },
  {
   "cell_type": "code",
   "execution_count": 22,
   "metadata": {},
   "outputs": [],
   "source": [
    "#********************************************************Country2 GBR**********************************************************\n",
    "#Creating a new dataframe D2 for country 2 (GBR) bassed on All the columns of the master_frame along with \n",
    "#the primary sector and the main sector falling within the 5-15 million USD range\n",
    "\n",
    "#Filtering the master df with country code as GBR, funding type as venture and raised amount in range of 5 to 15 million\n",
    "D_2 = master_frame_Final[(master_frame_Final.country_code==\"GBR\")& \n",
    "                        (master_frame_Final.funding_round_type==\"venture\")&\n",
    "                        (master_frame_Final.raised_amount_usd>=5000000)&(master_frame_Final.raised_amount_usd<=15000000)]\n",
    "\n",
    "#Grouping the df by Main_Sector to find the sum of raised amount and count of Main_Sector mapped with primary sector\n",
    "D_2_Total_Count = D_2.groupby(['Main_Sector']).agg({'raised_amount_usd':'sum','Main_Sector':'count'})\n",
    "\n",
    "#Renaming the new columns consisting of sum of raised amt and count of main sector\n",
    "D_2_Total_Count_Rename = D_2_Total_Count.rename(columns={'Main_Sector':'Total_Count_Main_Sector','raised_amount_usd':'Total_Amount_Raised'})\n",
    "\n",
    "#Creating merged dataframe D1 for USA\n",
    "D2 = pd.merge(D_2,D_2_Total_Count_Rename,left_on='Main_Sector',right_index=True,how='inner')\n",
    "D2.to_csv(\"D2_USA.csv\")"
   ]
  },
  {
   "cell_type": "code",
   "execution_count": 680,
   "metadata": {},
   "outputs": [
    {
     "data": {
      "text/plain": [
       "619"
      ]
     },
     "execution_count": 680,
     "metadata": {},
     "output_type": "execute_result"
    }
   ],
   "source": [
    "#Table 5.1 : Sector-wise Investment Analysis\n",
    "\n",
    "#5.1 Total number of investments (count)\n",
    "Total_Number_Investment_GBR_2 = D_2_Total_Count_Rename.Total_Count_Main_Sector.sum()\n",
    "Total_Number_Investment_GBR_2"
   ]
  },
  {
   "cell_type": "code",
   "execution_count": 681,
   "metadata": {},
   "outputs": [
    {
     "data": {
      "text/plain": [
       "5365228300.0"
      ]
     },
     "execution_count": 681,
     "metadata": {},
     "output_type": "execute_result"
    }
   ],
   "source": [
    "#5.2 Total amount of investment (USD)\n",
    "Total_Amount_of_Investment_GBR_2 = D_2_Total_Count_Rename.Total_Amount_Raised.sum()\n",
    "Total_Amount_of_Investment_GBR_2"
   ]
  },
  {
   "cell_type": "code",
   "execution_count": 671,
   "metadata": {},
   "outputs": [
    {
     "data": {
      "text/html": [
       "<div>\n",
       "<style scoped>\n",
       "    .dataframe tbody tr th:only-of-type {\n",
       "        vertical-align: middle;\n",
       "    }\n",
       "\n",
       "    .dataframe tbody tr th {\n",
       "        vertical-align: top;\n",
       "    }\n",
       "\n",
       "    .dataframe thead th {\n",
       "        text-align: right;\n",
       "    }\n",
       "</style>\n",
       "<table border=\"1\" class=\"dataframe\">\n",
       "  <thead>\n",
       "    <tr style=\"text-align: right;\">\n",
       "      <th></th>\n",
       "      <th>Total_Count_Main_Sector</th>\n",
       "    </tr>\n",
       "    <tr>\n",
       "      <th>Main_Sector</th>\n",
       "      <th></th>\n",
       "    </tr>\n",
       "  </thead>\n",
       "  <tbody>\n",
       "    <tr>\n",
       "      <th>Others</th>\n",
       "      <td>147</td>\n",
       "    </tr>\n",
       "    <tr>\n",
       "      <th>Social, Finance, Analytics, Advertising</th>\n",
       "      <td>133</td>\n",
       "    </tr>\n",
       "    <tr>\n",
       "      <th>Cleantech / Semiconductors</th>\n",
       "      <td>128</td>\n",
       "    </tr>\n",
       "  </tbody>\n",
       "</table>\n",
       "</div>"
      ],
      "text/plain": [
       "                                         Total_Count_Main_Sector\n",
       "Main_Sector                                                     \n",
       "Others                                                       147\n",
       "Social, Finance, Analytics, Advertising                      133\n",
       "Cleantech / Semiconductors                                   128"
      ]
     },
     "execution_count": 671,
     "metadata": {},
     "output_type": "execute_result"
    }
   ],
   "source": [
    "#5.3 Top sector (based on count of investments)\n",
    "#5.4 Second-best sector (based on count of investments)\n",
    "#5.5 Third-best sector (based on count of investments)\n",
    "Top_Sector_BasedOn_Count_of_Investment_GBR = D_2_Total_Count_Rename.sort_values('Total_Count_Main_Sector',ascending=False)\n",
    "Top_Sector_BasedOn_Count_of_Investment_GBR_2 = pd.DataFrame(Top_Sector_BasedOn_Count_of_Investment_GBR[\"Total_Count_Main_Sector\"])\n",
    "Top_Sector_BasedOn_Count_of_Investment_GBR_2.head(3)"
   ]
  },
  {
   "cell_type": "code",
   "execution_count": 673,
   "metadata": {},
   "outputs": [
    {
     "data": {
      "text/html": [
       "<div>\n",
       "<style scoped>\n",
       "    .dataframe tbody tr th:only-of-type {\n",
       "        vertical-align: middle;\n",
       "    }\n",
       "\n",
       "    .dataframe tbody tr th {\n",
       "        vertical-align: top;\n",
       "    }\n",
       "\n",
       "    .dataframe thead th {\n",
       "        text-align: right;\n",
       "    }\n",
       "</style>\n",
       "<table border=\"1\" class=\"dataframe\">\n",
       "  <thead>\n",
       "    <tr style=\"text-align: right;\">\n",
       "      <th></th>\n",
       "      <th>Total_Amount_Raised</th>\n",
       "    </tr>\n",
       "    <tr>\n",
       "      <th>Main_Sector</th>\n",
       "      <th></th>\n",
       "    </tr>\n",
       "  </thead>\n",
       "  <tbody>\n",
       "    <tr>\n",
       "      <th>Others</th>\n",
       "      <td>2.632101e+10</td>\n",
       "    </tr>\n",
       "    <tr>\n",
       "      <th>Social, Finance, Analytics, Advertising</th>\n",
       "      <td>2.380738e+10</td>\n",
       "    </tr>\n",
       "    <tr>\n",
       "      <th>Cleantech / Semiconductors</th>\n",
       "      <td>2.120663e+10</td>\n",
       "    </tr>\n",
       "  </tbody>\n",
       "</table>\n",
       "</div>"
      ],
      "text/plain": [
       "                                         Total_Amount_Raised\n",
       "Main_Sector                                                 \n",
       "Others                                          2.632101e+10\n",
       "Social, Finance, Analytics, Advertising         2.380738e+10\n",
       "Cleantech / Semiconductors                      2.120663e+10"
      ]
     },
     "execution_count": 673,
     "metadata": {},
     "output_type": "execute_result"
    }
   ],
   "source": [
    "#5.6 Number of investments in the top sector\n",
    "#5.7 Number of investments in the second-best sector\n",
    "#5.8 Number of investments in the third-best sector\n",
    "Top_Sector_Number_of_Investment_GBR = D_2_Total_Count_Rename.sort_values('Total_Amount_Raised',ascending=False)\n",
    "Top_Sector_Number_of_Investment_GBR_2 = pd.DataFrame(Top_Sector_Number_of_Investment[\"Total_Amount_Raised\"])\n",
    "Top_Sector_Number_of_Investment_GBR_2.head(3)"
   ]
  },
  {
   "cell_type": "code",
   "execution_count": 674,
   "metadata": {},
   "outputs": [
    {
     "data": {
      "text/html": [
       "<div>\n",
       "<style scoped>\n",
       "    .dataframe tbody tr th:only-of-type {\n",
       "        vertical-align: middle;\n",
       "    }\n",
       "\n",
       "    .dataframe tbody tr th {\n",
       "        vertical-align: top;\n",
       "    }\n",
       "\n",
       "    .dataframe thead th {\n",
       "        text-align: right;\n",
       "    }\n",
       "</style>\n",
       "<table border=\"1\" class=\"dataframe\">\n",
       "  <thead>\n",
       "    <tr style=\"text-align: right;\">\n",
       "      <th></th>\n",
       "      <th>raised_amount_usd</th>\n",
       "    </tr>\n",
       "    <tr>\n",
       "      <th>name</th>\n",
       "      <th></th>\n",
       "    </tr>\n",
       "  </thead>\n",
       "  <tbody>\n",
       "    <tr>\n",
       "      <th>Electric Cloud</th>\n",
       "      <td>37000000.0</td>\n",
       "    </tr>\n",
       "  </tbody>\n",
       "</table>\n",
       "</div>"
      ],
      "text/plain": [
       "                raised_amount_usd\n",
       "name                             \n",
       "Electric Cloud         37000000.0"
      ]
     },
     "execution_count": 674,
     "metadata": {},
     "output_type": "execute_result"
    }
   ],
   "source": [
    "#5.9 For the top sector count-wise (point 3), which company received the highest investment?\n",
    "Top_Sector_CountWise_Company_2 = pd.DataFrame(D2[(D2.Main_Sector==\"Others\")].groupby('name')['raised_amount_usd'].sum().sort_values(ascending=False))\n",
    "Top_Sector_CountWise_Company_2.head(1)"
   ]
  },
  {
   "cell_type": "code",
   "execution_count": 677,
   "metadata": {},
   "outputs": [
    {
     "data": {
      "text/html": [
       "<div>\n",
       "<style scoped>\n",
       "    .dataframe tbody tr th:only-of-type {\n",
       "        vertical-align: middle;\n",
       "    }\n",
       "\n",
       "    .dataframe tbody tr th {\n",
       "        vertical-align: top;\n",
       "    }\n",
       "\n",
       "    .dataframe thead th {\n",
       "        text-align: right;\n",
       "    }\n",
       "</style>\n",
       "<table border=\"1\" class=\"dataframe\">\n",
       "  <thead>\n",
       "    <tr style=\"text-align: right;\">\n",
       "      <th></th>\n",
       "      <th>raised_amount_usd</th>\n",
       "    </tr>\n",
       "    <tr>\n",
       "      <th>name</th>\n",
       "      <th></th>\n",
       "    </tr>\n",
       "  </thead>\n",
       "  <tbody>\n",
       "    <tr>\n",
       "      <th>Celltick Technologies</th>\n",
       "      <td>37500000.0</td>\n",
       "    </tr>\n",
       "  </tbody>\n",
       "</table>\n",
       "</div>"
      ],
      "text/plain": [
       "                       raised_amount_usd\n",
       "name                                    \n",
       "Celltick Technologies         37500000.0"
      ]
     },
     "execution_count": 677,
     "metadata": {},
     "output_type": "execute_result"
    }
   ],
   "source": [
    "#For the second-best sector count-wise (point 4), which company received the highest investment?\n",
    "Second_Best_Sector_CountWise_Company_2 = pd.DataFrame(D2[(D2.Main_Sector==\"Social, Finance, Analytics, Advertising\")].groupby('name')['raised_amount_usd'].sum().sort_values(ascending=False))\n",
    "Second_Best_Sector_CountWise_Company_2.head(1)"
   ]
  },
  {
   "cell_type": "code",
   "execution_count": 23,
   "metadata": {},
   "outputs": [],
   "source": [
    "#********************************************************Country3 IND**********************************************************\n",
    "#Creating a new dataframe D1 for country 3 (IND) bassed on All the columns of the master_frame along with \n",
    "#the primary sector and the main sector falling within the 5-15 million USD range\n",
    "\n",
    "#Filtering the master df with country code as IND, funding type as venture and raised amount in range of 5 to 15 million\n",
    "D_3 = master_frame_Final[(master_frame_Final.country_code==\"IND\")& \n",
    "                        (master_frame_Final.funding_round_type==\"venture\")&\n",
    "                        (master_frame_Final.raised_amount_usd>=5000000)&(master_frame_Final.raised_amount_usd<=15000000)]\n",
    "\n",
    "#Grouping the df by Main_Sector to find the sum of raised amount and count of Main_Sector mapped with primary sector\n",
    "D_3_Total_Count = D_3.groupby(['Main_Sector']).agg({'raised_amount_usd':'sum','Main_Sector':'count'})\n",
    "\n",
    "#Renaming the new columns consisting of sum of raised amt and count of main sector\n",
    "D_3_Total_Count_Rename = D_3_Total_Count.rename(columns={'Main_Sector':'Total_Count_Main_Sector','raised_amount_usd':'Total_Amount_Raised'})\n",
    "\n",
    "#Creating merged dataframe D1 for USA\n",
    "D3 = pd.merge(D_3,D_3_Total_Count_Rename,left_on='Main_Sector',right_index=True,how='inner')\n",
    "D3.to_csv(\"D3_USA.csv\")"
   ]
  },
  {
   "cell_type": "code",
   "execution_count": 683,
   "metadata": {},
   "outputs": [
    {
     "data": {
      "text/plain": [
       "328"
      ]
     },
     "execution_count": 683,
     "metadata": {},
     "output_type": "execute_result"
    }
   ],
   "source": [
    "#Table 5.1 : Sector-wise Investment Analysis\n",
    "\n",
    "#5.1 Total number of investments (count)\n",
    "\n",
    "Total_Number_Investment_IND_3 = D_3_Total_Count_Rename.Total_Count_Main_Sector.sum()\n",
    "Total_Number_Investment_IND_3"
   ]
  },
  {
   "cell_type": "code",
   "execution_count": 685,
   "metadata": {},
   "outputs": [
    {
     "data": {
      "text/plain": [
       "2949543602.0"
      ]
     },
     "execution_count": 685,
     "metadata": {},
     "output_type": "execute_result"
    }
   ],
   "source": [
    "#5.2 Total amount of investment (USD)\n",
    "Total_Amount_of_Investment_IND_3 = D_3_Total_Count_Rename.Total_Amount_Raised.sum()\n",
    "Total_Amount_of_Investment_IND_3"
   ]
  },
  {
   "cell_type": "code",
   "execution_count": 686,
   "metadata": {},
   "outputs": [
    {
     "data": {
      "text/html": [
       "<div>\n",
       "<style scoped>\n",
       "    .dataframe tbody tr th:only-of-type {\n",
       "        vertical-align: middle;\n",
       "    }\n",
       "\n",
       "    .dataframe tbody tr th {\n",
       "        vertical-align: top;\n",
       "    }\n",
       "\n",
       "    .dataframe thead th {\n",
       "        text-align: right;\n",
       "    }\n",
       "</style>\n",
       "<table border=\"1\" class=\"dataframe\">\n",
       "  <thead>\n",
       "    <tr style=\"text-align: right;\">\n",
       "      <th></th>\n",
       "      <th>Total_Count_Main_Sector</th>\n",
       "    </tr>\n",
       "    <tr>\n",
       "      <th>Main_Sector</th>\n",
       "      <th></th>\n",
       "    </tr>\n",
       "  </thead>\n",
       "  <tbody>\n",
       "    <tr>\n",
       "      <th>Others</th>\n",
       "      <td>110</td>\n",
       "    </tr>\n",
       "    <tr>\n",
       "      <th>Social, Finance, Analytics, Advertising</th>\n",
       "      <td>60</td>\n",
       "    </tr>\n",
       "    <tr>\n",
       "      <th>News, Search and Messaging</th>\n",
       "      <td>52</td>\n",
       "    </tr>\n",
       "  </tbody>\n",
       "</table>\n",
       "</div>"
      ],
      "text/plain": [
       "                                         Total_Count_Main_Sector\n",
       "Main_Sector                                                     \n",
       "Others                                                       110\n",
       "Social, Finance, Analytics, Advertising                       60\n",
       "News, Search and Messaging                                    52"
      ]
     },
     "execution_count": 686,
     "metadata": {},
     "output_type": "execute_result"
    }
   ],
   "source": [
    "#5.3 Top sector (based on count of investments)\n",
    "#5.4 Second-best sector (based on count of investments)\n",
    "#5.5 Third-best sector (based on count of investments)\n",
    "Top_Sector_BasedOn_Count_of_Investment_IND = D_3_Total_Count_Rename.sort_values('Total_Count_Main_Sector',ascending=False)\n",
    "Top_Sector_BasedOn_Count_of_Investment_IND_3 = pd.DataFrame(Top_Sector_BasedOn_Count_of_Investment_IND[\"Total_Count_Main_Sector\"])\n",
    "Top_Sector_BasedOn_Count_of_Investment_IND_3.head(3)"
   ]
  },
  {
   "cell_type": "code",
   "execution_count": 687,
   "metadata": {},
   "outputs": [
    {
     "data": {
      "text/html": [
       "<div>\n",
       "<style scoped>\n",
       "    .dataframe tbody tr th:only-of-type {\n",
       "        vertical-align: middle;\n",
       "    }\n",
       "\n",
       "    .dataframe tbody tr th {\n",
       "        vertical-align: top;\n",
       "    }\n",
       "\n",
       "    .dataframe thead th {\n",
       "        text-align: right;\n",
       "    }\n",
       "</style>\n",
       "<table border=\"1\" class=\"dataframe\">\n",
       "  <thead>\n",
       "    <tr style=\"text-align: right;\">\n",
       "      <th></th>\n",
       "      <th>Total_Amount_Raised</th>\n",
       "    </tr>\n",
       "    <tr>\n",
       "      <th>Main_Sector</th>\n",
       "      <th></th>\n",
       "    </tr>\n",
       "  </thead>\n",
       "  <tbody>\n",
       "    <tr>\n",
       "      <th>Others</th>\n",
       "      <td>1.013410e+09</td>\n",
       "    </tr>\n",
       "    <tr>\n",
       "      <th>Social, Finance, Analytics, Advertising</th>\n",
       "      <td>5.505496e+08</td>\n",
       "    </tr>\n",
       "    <tr>\n",
       "      <th>News, Search and Messaging</th>\n",
       "      <td>4.338345e+08</td>\n",
       "    </tr>\n",
       "  </tbody>\n",
       "</table>\n",
       "</div>"
      ],
      "text/plain": [
       "                                         Total_Amount_Raised\n",
       "Main_Sector                                                 \n",
       "Others                                          1.013410e+09\n",
       "Social, Finance, Analytics, Advertising         5.505496e+08\n",
       "News, Search and Messaging                      4.338345e+08"
      ]
     },
     "execution_count": 687,
     "metadata": {},
     "output_type": "execute_result"
    }
   ],
   "source": [
    "#5.6 Number of investments in the top sector\n",
    "#5.7 Number of investments in the second-best sector\n",
    "#5.8 Number of investments in the third-best sector\n",
    "Top_Sector_Number_of_Investment_IND = D_3_Total_Count_Rename.sort_values('Total_Amount_Raised',ascending=False)\n",
    "Top_Sector_Number_of_Investment_IND_3 = pd.DataFrame(Top_Sector_Number_of_Investment_IND[\"Total_Amount_Raised\"])\n",
    "Top_Sector_Number_of_Investment_IND_3.head(3)"
   ]
  },
  {
   "cell_type": "code",
   "execution_count": 688,
   "metadata": {},
   "outputs": [
    {
     "data": {
      "text/html": [
       "<div>\n",
       "<style scoped>\n",
       "    .dataframe tbody tr th:only-of-type {\n",
       "        vertical-align: middle;\n",
       "    }\n",
       "\n",
       "    .dataframe tbody tr th {\n",
       "        vertical-align: top;\n",
       "    }\n",
       "\n",
       "    .dataframe thead th {\n",
       "        text-align: right;\n",
       "    }\n",
       "</style>\n",
       "<table border=\"1\" class=\"dataframe\">\n",
       "  <thead>\n",
       "    <tr style=\"text-align: right;\">\n",
       "      <th></th>\n",
       "      <th>raised_amount_usd</th>\n",
       "    </tr>\n",
       "    <tr>\n",
       "      <th>name</th>\n",
       "      <th></th>\n",
       "    </tr>\n",
       "  </thead>\n",
       "  <tbody>\n",
       "    <tr>\n",
       "      <th>FirstCry.com</th>\n",
       "      <td>39000000.0</td>\n",
       "    </tr>\n",
       "  </tbody>\n",
       "</table>\n",
       "</div>"
      ],
      "text/plain": [
       "              raised_amount_usd\n",
       "name                           \n",
       "FirstCry.com         39000000.0"
      ]
     },
     "execution_count": 688,
     "metadata": {},
     "output_type": "execute_result"
    }
   ],
   "source": [
    "#5.9 For the top sector count-wise (point 3), which company received the highest investment?\n",
    "Top_Sector_CountWise_Company_3 = pd.DataFrame(D3[(D3.Main_Sector==\"Others\")].groupby('name')['raised_amount_usd'].sum().sort_values(ascending=False))\n",
    "Top_Sector_CountWise_Company_3.head(1)"
   ]
  },
  {
   "cell_type": "code",
   "execution_count": 689,
   "metadata": {},
   "outputs": [
    {
     "data": {
      "text/html": [
       "<div>\n",
       "<style scoped>\n",
       "    .dataframe tbody tr th:only-of-type {\n",
       "        vertical-align: middle;\n",
       "    }\n",
       "\n",
       "    .dataframe tbody tr th {\n",
       "        vertical-align: top;\n",
       "    }\n",
       "\n",
       "    .dataframe thead th {\n",
       "        text-align: right;\n",
       "    }\n",
       "</style>\n",
       "<table border=\"1\" class=\"dataframe\">\n",
       "  <thead>\n",
       "    <tr style=\"text-align: right;\">\n",
       "      <th></th>\n",
       "      <th>raised_amount_usd</th>\n",
       "    </tr>\n",
       "    <tr>\n",
       "      <th>name</th>\n",
       "      <th></th>\n",
       "    </tr>\n",
       "  </thead>\n",
       "  <tbody>\n",
       "    <tr>\n",
       "      <th>Manthan Systems</th>\n",
       "      <td>50700000.0</td>\n",
       "    </tr>\n",
       "  </tbody>\n",
       "</table>\n",
       "</div>"
      ],
      "text/plain": [
       "                 raised_amount_usd\n",
       "name                              \n",
       "Manthan Systems         50700000.0"
      ]
     },
     "execution_count": 689,
     "metadata": {},
     "output_type": "execute_result"
    }
   ],
   "source": [
    "#For the second-best sector count-wise (point 4), which company received the highest investment?\n",
    "Second_Best_Sector_CountWise_Company_3 = pd.DataFrame(D3[(D3.Main_Sector==\"Social, Finance, Analytics, Advertising\")].groupby('name')['raised_amount_usd'].sum().sort_values(ascending=False))\n",
    "Second_Best_Sector_CountWise_Company_3.head(1)"
   ]
  }
 ],
 "metadata": {
  "kernelspec": {
   "display_name": "Python 3",
   "language": "python",
   "name": "python3"
  },
  "language_info": {
   "codemirror_mode": {
    "name": "ipython",
    "version": 3
   },
   "file_extension": ".py",
   "mimetype": "text/x-python",
   "name": "python",
   "nbconvert_exporter": "python",
   "pygments_lexer": "ipython3",
   "version": "3.7.0"
  }
 },
 "nbformat": 4,
 "nbformat_minor": 2
}
